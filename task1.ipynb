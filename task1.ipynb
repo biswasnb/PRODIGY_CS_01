{
 "cells": [
  {
   "cell_type": "code",
   "execution_count": 1,
   "id": "87647c41",
   "metadata": {},
   "outputs": [
    {
     "name": "stdout",
     "output_type": "stream",
     "text": [
      "Encrypt or decrypt a message? (e/d): e\n",
      "Enter your message: hello\n",
      "Enter shift value: 2\n",
      "Result: jgnnq\n"
     ]
    }
   ],
   "source": [
    "def caesar_cipher(text, shift, mode):\n",
    "    result = \"\"\n",
    "    shift = shift if mode == 'e' else -shift\n",
    "\n",
    "    for char in text:\n",
    "        if char.isalpha():\n",
    "            shift_base = 65 if char.isupper() else 97\n",
    "            result += chr((ord(char) - shift_base + shift) % 26 + shift_base)\n",
    "        else:\n",
    "            result += char\n",
    "\n",
    "    return result\n",
    "\n",
    "def main():\n",
    "    mode = input(\"Encrypt or decrypt a message? (e/d): \").lower()\n",
    "    message = input(\"Enter your message: \")\n",
    "    shift = int(input(\"Enter shift value: \"))\n",
    "\n",
    "    if mode in ['e', 'd']:\n",
    "        transformed_message = caesar_cipher(message, shift, mode)\n",
    "        print(\"Result:\", transformed_message)\n",
    "    else:\n",
    "        print(\"Invalid choice! Please enter 'e' to encrypt or 'd' to decrypt.\")\n",
    "\n",
    "if __name__ == \"__main__\":\n",
    "    main()\n"
   ]
  },
  {
   "cell_type": "code",
   "execution_count": 2,
   "id": "5c0b0954",
   "metadata": {},
   "outputs": [
    {
     "name": "stdout",
     "output_type": "stream",
     "text": [
      "Encrypt or decrypt a message? (e/d): d\n",
      "Enter your message: jgnnq\n",
      "Enter shift value: 2\n",
      "Result: hello\n"
     ]
    }
   ],
   "source": [
    "def caesar_cipher(text, shift, mode):\n",
    "    result = \"\"\n",
    "    shift = shift if mode == 'e' else -shift\n",
    "\n",
    "    for char in text:\n",
    "        if char.isalpha():\n",
    "            shift_base = 65 if char.isupper() else 97\n",
    "            result += chr((ord(char) - shift_base + shift) % 26 + shift_base)\n",
    "        else:\n",
    "            result += char\n",
    "\n",
    "    return result\n",
    "\n",
    "def main():\n",
    "    mode = input(\"Encrypt or decrypt a message? (e/d): \").lower()\n",
    "    message = input(\"Enter your message: \")\n",
    "    shift = int(input(\"Enter shift value: \"))\n",
    "\n",
    "    if mode in ['e', 'd']:\n",
    "        transformed_message = caesar_cipher(message, shift, mode)\n",
    "        print(\"Result:\", transformed_message)\n",
    "    else:\n",
    "        print(\"Invalid choice! Please enter 'e' to encrypt or 'd' to decrypt.\")\n",
    "\n",
    "if __name__ == \"__main__\":\n",
    "    main()\n"
   ]
  },
  {
   "cell_type": "code",
   "execution_count": null,
   "id": "21a5fa51",
   "metadata": {},
   "outputs": [],
   "source": []
  }
 ],
 "metadata": {
  "kernelspec": {
   "display_name": "Python 3 (ipykernel)",
   "language": "python",
   "name": "python3"
  },
  "language_info": {
   "codemirror_mode": {
    "name": "ipython",
    "version": 3
   },
   "file_extension": ".py",
   "mimetype": "text/x-python",
   "name": "python",
   "nbconvert_exporter": "python",
   "pygments_lexer": "ipython3",
   "version": "3.9.7"
  }
 },
 "nbformat": 4,
 "nbformat_minor": 5
}
